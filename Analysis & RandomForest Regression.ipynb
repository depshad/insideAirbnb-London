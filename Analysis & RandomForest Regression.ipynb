{
 "cells": [
  {
   "cell_type": "code",
   "execution_count": 448,
   "metadata": {},
   "outputs": [],
   "source": [
    "import pandas as pd\n",
    "import numpy as np\n"
   ]
  },
  {
   "cell_type": "code",
   "execution_count": 449,
   "metadata": {},
   "outputs": [
    {
     "name": "stderr",
     "output_type": "stream",
     "text": [
      "C:\\Users\\everma\\AppData\\Local\\Continuum\\anaconda3\\lib\\site-packages\\IPython\\core\\interactiveshell.py:3057: DtypeWarning: Columns (61,62,94,95) have mixed types. Specify dtype option on import or set low_memory=False.\n",
      "  interactivity=interactivity, compiler=compiler, result=result)\n"
     ]
    }
   ],
   "source": [
    "#Read the csv file\n",
    "file=pd.read_csv(r'listings.csv')"
   ]
  },
  {
   "cell_type": "code",
   "execution_count": 450,
   "metadata": {},
   "outputs": [
    {
     "data": {
      "text/html": [
       "<div>\n",
       "<style scoped>\n",
       "    .dataframe tbody tr th:only-of-type {\n",
       "        vertical-align: middle;\n",
       "    }\n",
       "\n",
       "    .dataframe tbody tr th {\n",
       "        vertical-align: top;\n",
       "    }\n",
       "\n",
       "    .dataframe thead th {\n",
       "        text-align: right;\n",
       "    }\n",
       "</style>\n",
       "<table border=\"1\" class=\"dataframe\">\n",
       "  <thead>\n",
       "    <tr style=\"text-align: right;\">\n",
       "      <th></th>\n",
       "      <th>id</th>\n",
       "      <th>listing_url</th>\n",
       "      <th>scrape_id</th>\n",
       "      <th>last_scraped</th>\n",
       "      <th>name</th>\n",
       "      <th>summary</th>\n",
       "      <th>space</th>\n",
       "      <th>description</th>\n",
       "      <th>experiences_offered</th>\n",
       "      <th>neighborhood_overview</th>\n",
       "      <th>...</th>\n",
       "      <th>instant_bookable</th>\n",
       "      <th>is_business_travel_ready</th>\n",
       "      <th>cancellation_policy</th>\n",
       "      <th>require_guest_profile_picture</th>\n",
       "      <th>require_guest_phone_verification</th>\n",
       "      <th>calculated_host_listings_count</th>\n",
       "      <th>calculated_host_listings_count_entire_homes</th>\n",
       "      <th>calculated_host_listings_count_private_rooms</th>\n",
       "      <th>calculated_host_listings_count_shared_rooms</th>\n",
       "      <th>reviews_per_month</th>\n",
       "    </tr>\n",
       "  </thead>\n",
       "  <tbody>\n",
       "    <tr>\n",
       "      <th>76714</th>\n",
       "      <td>34904405</td>\n",
       "      <td>https://www.airbnb.com/rooms/34904405</td>\n",
       "      <td>20190710134553</td>\n",
       "      <td>2019-07-12</td>\n",
       "      <td>SamsonPLAB Academy Bow Cosy Stay 16.1</td>\n",
       "      <td>NaN</td>\n",
       "      <td>NaN</td>\n",
       "      <td>Guests check in is strictly between 5 to 7pm. ...</td>\n",
       "      <td>none</td>\n",
       "      <td>NaN</td>\n",
       "      <td>...</td>\n",
       "      <td>f</td>\n",
       "      <td>f</td>\n",
       "      <td>strict_14_with_grace_period</td>\n",
       "      <td>f</td>\n",
       "      <td>f</td>\n",
       "      <td>93</td>\n",
       "      <td>3</td>\n",
       "      <td>90</td>\n",
       "      <td>0</td>\n",
       "      <td>NaN</td>\n",
       "    </tr>\n",
       "    <tr>\n",
       "      <th>57412</th>\n",
       "      <td>28211808</td>\n",
       "      <td>https://www.airbnb.com/rooms/28211808</td>\n",
       "      <td>20190710134553</td>\n",
       "      <td>2019-07-11</td>\n",
       "      <td>Colindale , London , New, fully furnished flat</td>\n",
       "      <td>This beautiful flat is 25 minutes by tube from...</td>\n",
       "      <td>This flat will feel like a lovely suburban ret...</td>\n",
       "      <td>This beautiful flat is 25 minutes by tube from...</td>\n",
       "      <td>none</td>\n",
       "      <td>There are plenty of supermarkets in the area, ...</td>\n",
       "      <td>...</td>\n",
       "      <td>f</td>\n",
       "      <td>f</td>\n",
       "      <td>strict_14_with_grace_period</td>\n",
       "      <td>f</td>\n",
       "      <td>f</td>\n",
       "      <td>1</td>\n",
       "      <td>1</td>\n",
       "      <td>0</td>\n",
       "      <td>0</td>\n",
       "      <td>0.11</td>\n",
       "    </tr>\n",
       "  </tbody>\n",
       "</table>\n",
       "<p>2 rows × 106 columns</p>\n",
       "</div>"
      ],
      "text/plain": [
       "             id                            listing_url       scrape_id  \\\n",
       "76714  34904405  https://www.airbnb.com/rooms/34904405  20190710134553   \n",
       "57412  28211808  https://www.airbnb.com/rooms/28211808  20190710134553   \n",
       "\n",
       "      last_scraped                                            name  \\\n",
       "76714   2019-07-12           SamsonPLAB Academy Bow Cosy Stay 16.1   \n",
       "57412   2019-07-11  Colindale , London , New, fully furnished flat   \n",
       "\n",
       "                                                 summary  \\\n",
       "76714                                                NaN   \n",
       "57412  This beautiful flat is 25 minutes by tube from...   \n",
       "\n",
       "                                                   space  \\\n",
       "76714                                                NaN   \n",
       "57412  This flat will feel like a lovely suburban ret...   \n",
       "\n",
       "                                             description experiences_offered  \\\n",
       "76714  Guests check in is strictly between 5 to 7pm. ...                none   \n",
       "57412  This beautiful flat is 25 minutes by tube from...                none   \n",
       "\n",
       "                                   neighborhood_overview  ...  \\\n",
       "76714                                                NaN  ...   \n",
       "57412  There are plenty of supermarkets in the area, ...  ...   \n",
       "\n",
       "      instant_bookable is_business_travel_ready          cancellation_policy  \\\n",
       "76714                f                        f  strict_14_with_grace_period   \n",
       "57412                f                        f  strict_14_with_grace_period   \n",
       "\n",
       "      require_guest_profile_picture require_guest_phone_verification  \\\n",
       "76714                             f                                f   \n",
       "57412                             f                                f   \n",
       "\n",
       "       calculated_host_listings_count  \\\n",
       "76714                              93   \n",
       "57412                               1   \n",
       "\n",
       "       calculated_host_listings_count_entire_homes  \\\n",
       "76714                                            3   \n",
       "57412                                            1   \n",
       "\n",
       "      calculated_host_listings_count_private_rooms  \\\n",
       "76714                                           90   \n",
       "57412                                            0   \n",
       "\n",
       "       calculated_host_listings_count_shared_rooms  reviews_per_month  \n",
       "76714                                            0                NaN  \n",
       "57412                                            0               0.11  \n",
       "\n",
       "[2 rows x 106 columns]"
      ]
     },
     "execution_count": 450,
     "metadata": {},
     "output_type": "execute_result"
    }
   ],
   "source": [
    "file.sample(2, random_state=42) "
   ]
  },
  {
   "cell_type": "code",
   "execution_count": 451,
   "metadata": {},
   "outputs": [
    {
     "data": {
      "text/plain": [
       "(83850, 106)"
      ]
     },
     "execution_count": 451,
     "metadata": {},
     "output_type": "execute_result"
    }
   ],
   "source": [
    "file.shape"
   ]
  },
  {
   "cell_type": "code",
   "execution_count": 452,
   "metadata": {},
   "outputs": [
    {
     "name": "stdout",
     "output_type": "stream",
     "text": [
      "<class 'pandas.core.frame.DataFrame'>\n",
      "RangeIndex: 83850 entries, 0 to 83849\n",
      "Columns: 106 entries, id to reviews_per_month\n",
      "dtypes: float64(23), int64(21), object(62)\n",
      "memory usage: 67.8+ MB\n"
     ]
    }
   ],
   "source": [
    "file.info()"
   ]
  },
  {
   "cell_type": "code",
   "execution_count": 453,
   "metadata": {},
   "outputs": [],
   "source": [
    "#Data cleaning\n",
    "#Features we want to drop"
   ]
  },
  {
   "cell_type": "code",
   "execution_count": 459,
   "metadata": {},
   "outputs": [],
   "source": [
    "percent_missing = (file.isnull().sum() * 100 / len(file)).sort_values(ascending=False)"
   ]
  },
  {
   "cell_type": "code",
   "execution_count": 460,
   "metadata": {},
   "outputs": [
    {
     "data": {
      "text/plain": [
       "thumbnail_url                   100.000000\n",
       "neighbourhood_group_cleansed    100.000000\n",
       "xl_picture_url                  100.000000\n",
       "host_acceptance_rate            100.000000\n",
       "medium_url                      100.000000\n",
       "jurisdiction_names               99.997615\n",
       "license                          99.769827\n",
       "square_feet                      99.469290\n",
       "monthly_price                    93.645796\n",
       "weekly_price                     91.073345\n",
       "dtype: float64"
      ]
     },
     "execution_count": 460,
     "metadata": {},
     "output_type": "execute_result"
    }
   ],
   "source": [
    "percent_missing[percent_missing>90]"
   ]
  },
  {
   "cell_type": "code",
   "execution_count": 461,
   "metadata": {},
   "outputs": [
    {
     "data": {
      "text/plain": [
       "31092        SW8-PF-Vauxhall\n",
       "31093      SW3-SW-Embankment\n",
       "31094     TW9-AF-Windsorroad\n",
       "31095       SW18-SA-Buckhold\n",
       "31096    SW13-GT-lillianroad\n",
       "Name: license, dtype: object"
      ]
     },
     "execution_count": 461,
     "metadata": {},
     "output_type": "execute_result"
    }
   ],
   "source": [
    "# Checking the column license\n",
    "file['license'][file['license'].notna()][:5]"
   ]
  },
  {
   "cell_type": "code",
   "execution_count": 462,
   "metadata": {},
   "outputs": [
    {
     "data": {
      "text/plain": [
       "62899    {\"translation missing: en.occupancy.taxes.juri...\n",
       "68150    {\"translation missing: en.occupancy.taxes.juri...\n",
       "Name: jurisdiction_names, dtype: object"
      ]
     },
     "execution_count": 462,
     "metadata": {},
     "output_type": "execute_result"
    }
   ],
   "source": [
    "# Checking the column jurisdiction_names \n",
    "file['jurisdiction_names'][file['jurisdiction_names'].notna()][:5]"
   ]
  },
  {
   "cell_type": "code",
   "execution_count": 463,
   "metadata": {},
   "outputs": [
    {
     "data": {
      "text/plain": [
       "0      538.0\n",
       "3     1001.0\n",
       "4      700.0\n",
       "18     237.0\n",
       "19     129.0\n",
       "Name: square_feet, dtype: float64"
      ]
     },
     "execution_count": 463,
     "metadata": {},
     "output_type": "execute_result"
    }
   ],
   "source": [
    "# Checking the column square_feet\n",
    "file['square_feet'][file['square_feet'].notna()][:5]"
   ]
  },
  {
   "cell_type": "code",
   "execution_count": 464,
   "metadata": {},
   "outputs": [
    {
     "data": {
      "text/plain": [
       "Index(['thumbnail_url', 'neighbourhood_group_cleansed', 'xl_picture_url',\n",
       "       'host_acceptance_rate', 'medium_url', 'jurisdiction_names', 'license',\n",
       "       'square_feet', 'monthly_price', 'weekly_price'],\n",
       "      dtype='object')"
      ]
     },
     "execution_count": 464,
     "metadata": {},
     "output_type": "execute_result"
    }
   ],
   "source": [
    "#Remove features with percentage of missing values greater than 90%\n",
    "cols1=percent_missing[percent_missing>90].index\n",
    "cols1"
   ]
  },
  {
   "cell_type": "code",
   "execution_count": 465,
   "metadata": {},
   "outputs": [
    {
     "data": {
      "text/plain": [
       "['id',\n",
       " 'listing_url',\n",
       " 'scrape_id',\n",
       " 'name',\n",
       " 'thumbnail_url',\n",
       " 'medium_url',\n",
       " 'picture_url',\n",
       " 'xl_picture_url',\n",
       " 'host_id',\n",
       " 'host_url',\n",
       " 'host_name',\n",
       " 'host_thumbnail_url',\n",
       " 'host_picture_url',\n",
       " 'license',\n",
       " 'calendar_last_scraped',\n",
       " 'calendar_updated',\n",
       " 'experiences_offered']"
      ]
     },
     "execution_count": 465,
     "metadata": {},
     "output_type": "execute_result"
    }
   ],
   "source": [
    "#Remove features using domain knowledge \n",
    "# experiences_offered (large missing values too)\n",
    "cols2=['id','listing_url','scrape_id','name','thumbnail_url','medium_url','picture_url','xl_picture_url','host_id','host_url','host_name','host_thumbnail_url','host_picture_url','license','calendar_last_scraped','calendar_updated','experiences_offered']\n",
    "cols2"
   ]
  },
  {
   "cell_type": "code",
   "execution_count": 466,
   "metadata": {},
   "outputs": [],
   "source": [
    "count=file.nunique()"
   ]
  },
  {
   "cell_type": "code",
   "execution_count": 467,
   "metadata": {},
   "outputs": [
    {
     "data": {
      "text/plain": [
       "['thumbnail_url',\n",
       " 'medium_url',\n",
       " 'xl_picture_url',\n",
       " 'host_acceptance_rate',\n",
       " 'neighbourhood_group_cleansed']"
      ]
     },
     "execution_count": 467,
     "metadata": {},
     "output_type": "execute_result"
    }
   ],
   "source": [
    "#Remove features with zero unique values i.e. empty column\n",
    "cols3 = [col for col in file.columns if count[col] == 0]\n",
    "cols3"
   ]
  },
  {
   "cell_type": "code",
   "execution_count": 468,
   "metadata": {},
   "outputs": [
    {
     "data": {
      "text/plain": [
       "['scrape_id',\n",
       " 'has_availability',\n",
       " 'jurisdiction_names',\n",
       " 'is_business_travel_ready']"
      ]
     },
     "execution_count": 468,
     "metadata": {},
     "output_type": "execute_result"
    }
   ],
   "source": [
    "##Remove features with one unique value i.e. same information for every datapoint\n",
    "cols4 = [col for col in file.columns if count[col] == 1]\n",
    "cols4"
   ]
  },
  {
   "cell_type": "code",
   "execution_count": 469,
   "metadata": {},
   "outputs": [],
   "source": [
    "# Taking union of cols1,cols2 and cols3\n",
    "drop_columns=list(set(cols1) | set(cols2) | set(cols3) | set(cols4)) "
   ]
  },
  {
   "cell_type": "code",
   "execution_count": 470,
   "metadata": {},
   "outputs": [
    {
     "data": {
      "text/plain": [
       "['weekly_price',\n",
       " 'calendar_updated',\n",
       " 'jurisdiction_names',\n",
       " 'monthly_price',\n",
       " 'medium_url',\n",
       " 'id',\n",
       " 'host_name',\n",
       " 'host_picture_url',\n",
       " 'thumbnail_url',\n",
       " 'name',\n",
       " 'xl_picture_url',\n",
       " 'host_thumbnail_url',\n",
       " 'calendar_last_scraped',\n",
       " 'host_acceptance_rate',\n",
       " 'square_feet',\n",
       " 'scrape_id',\n",
       " 'license',\n",
       " 'experiences_offered',\n",
       " 'has_availability',\n",
       " 'is_business_travel_ready',\n",
       " 'picture_url',\n",
       " 'host_id',\n",
       " 'host_url',\n",
       " 'listing_url',\n",
       " 'neighbourhood_group_cleansed']"
      ]
     },
     "execution_count": 470,
     "metadata": {},
     "output_type": "execute_result"
    }
   ],
   "source": [
    "drop_columns"
   ]
  },
  {
   "cell_type": "code",
   "execution_count": 471,
   "metadata": {},
   "outputs": [
    {
     "data": {
      "text/plain": [
       "25"
      ]
     },
     "execution_count": 471,
     "metadata": {},
     "output_type": "execute_result"
    }
   ],
   "source": [
    "len(drop_columns)"
   ]
  },
  {
   "cell_type": "code",
   "execution_count": 472,
   "metadata": {},
   "outputs": [
    {
     "data": {
      "text/plain": [
       "(83850, 81)"
      ]
     },
     "execution_count": 472,
     "metadata": {},
     "output_type": "execute_result"
    }
   ],
   "source": [
    "file=file.drop(drop_columns, axis=1)\n",
    "file.shape"
   ]
  },
  {
   "cell_type": "code",
   "execution_count": 473,
   "metadata": {},
   "outputs": [],
   "source": [
    "df=file.copy()"
   ]
  },
  {
   "cell_type": "code",
   "execution_count": 474,
   "metadata": {},
   "outputs": [
    {
     "data": {
      "text/plain": [
       "['host_is_superhost',\n",
       " 'host_has_profile_pic',\n",
       " 'host_identity_verified',\n",
       " 'is_location_exact',\n",
       " 'requires_license',\n",
       " 'instant_bookable',\n",
       " 'require_guest_profile_picture',\n",
       " 'require_guest_phone_verification']"
      ]
     },
     "execution_count": 474,
     "metadata": {},
     "output_type": "execute_result"
    }
   ],
   "source": [
    "#Feature transformation\n",
    "#Convert Boolean features to numerical\n",
    "bool_cols = [col for col in df.columns if count[col] == 2]\n",
    "bool_cols"
   ]
  },
  {
   "cell_type": "code",
   "execution_count": 475,
   "metadata": {},
   "outputs": [],
   "source": [
    "def bool_to_num(b):    \n",
    "    num=1 if b=='t' else 0\n",
    "    return num"
   ]
  },
  {
   "cell_type": "code",
   "execution_count": 476,
   "metadata": {},
   "outputs": [],
   "source": [
    "for col in bool_cols:\n",
    "    df[col] = df[col].apply(bool_to_num)"
   ]
  },
  {
   "cell_type": "code",
   "execution_count": 477,
   "metadata": {},
   "outputs": [],
   "source": [
    "#Convert the money(string) values to numbers for all currency columns\n",
    "def money_to_float(money_str):\n",
    "    return float(str(money_str).replace(',','').split('$')[-1])"
   ]
  },
  {
   "cell_type": "code",
   "execution_count": 478,
   "metadata": {},
   "outputs": [
    {
     "data": {
      "text/plain": [
       "0     $65.00\n",
       "1    $100.00\n",
       "2    $300.00\n",
       "3    $175.00\n",
       "4     $65.00\n",
       "Name: price, dtype: object"
      ]
     },
     "execution_count": 478,
     "metadata": {},
     "output_type": "execute_result"
    }
   ],
   "source": [
    "#Checking the target\n",
    "df['price'][:5]"
   ]
  },
  {
   "cell_type": "code",
   "execution_count": 479,
   "metadata": {},
   "outputs": [],
   "source": [
    "df['price']=df['price'].apply(money_to_float)"
   ]
  },
  {
   "cell_type": "code",
   "execution_count": 480,
   "metadata": {},
   "outputs": [],
   "source": [
    "df['extra_people']=df['extra_people'].apply(money_to_float)"
   ]
  },
  {
   "cell_type": "code",
   "execution_count": 481,
   "metadata": {},
   "outputs": [],
   "source": [
    "df['security_deposit']=df['security_deposit'].apply(money_to_float)"
   ]
  },
  {
   "cell_type": "code",
   "execution_count": 482,
   "metadata": {},
   "outputs": [],
   "source": [
    "df['cleaning_fee'] = df['cleaning_fee'].apply(money_to_float)"
   ]
  },
  {
   "cell_type": "code",
   "execution_count": 483,
   "metadata": {},
   "outputs": [
    {
     "data": {
      "text/plain": [
       "GB    83847\n",
       "FR        2\n",
       "ES        1\n",
       "Name: country_code, dtype: int64"
      ]
     },
     "execution_count": 483,
     "metadata": {},
     "output_type": "execute_result"
    }
   ],
   "source": [
    "df['country_code'].value_counts()"
   ]
  },
  {
   "cell_type": "code",
   "execution_count": 484,
   "metadata": {},
   "outputs": [],
   "source": [
    "#There are two listings from France and one from Spain ; rest all are from Englad\n",
    "#Remove the rows with country other than England\n",
    "df=df.drop(df[df['country_code']!='GB'].index)"
   ]
  },
  {
   "cell_type": "code",
   "execution_count": 485,
   "metadata": {},
   "outputs": [],
   "source": [
    "location_cols=['host_location','host_neighbourhood','street','neighbourhood','neighbourhood_cleansed','city','state','zipcode','market','smart_location','country_code','country']"
   ]
  },
  {
   "cell_type": "code",
   "execution_count": 486,
   "metadata": {},
   "outputs": [
    {
     "data": {
      "text/plain": [
       "\"I'm an artist and have my artwork up on the wall so please care.  When existing: You must lock all doors and windows when leaving the apartment and building and respect the other tenants in the building. If any problems arise you must contact me asap via telephone.\""
      ]
     },
     "execution_count": 486,
     "metadata": {},
     "output_type": "execute_result"
    }
   ],
   "source": [
    "house_rules=df['house_rules']\n",
    "house_rules[0]"
   ]
  },
  {
   "cell_type": "code",
   "execution_count": 487,
   "metadata": {},
   "outputs": [],
   "source": [
    "free_text_cols=['summary','space','description','neighborhood_overview','notes','transit','access','interaction','house_rules','host_about',]\n",
    "df=df.drop(free_text_cols,axis=1,errors='ignore')\n",
    "df=df.drop(location_cols,axis=1,errors='ignore')\n"
   ]
  },
  {
   "cell_type": "code",
   "execution_count": 488,
   "metadata": {},
   "outputs": [
    {
     "data": {
      "text/plain": [
       "(83847, 59)"
      ]
     },
     "execution_count": 488,
     "metadata": {},
     "output_type": "execute_result"
    }
   ],
   "source": [
    "df.shape"
   ]
  },
  {
   "cell_type": "code",
   "execution_count": 489,
   "metadata": {},
   "outputs": [],
   "source": [
    "##Feature based on host_since and last scrapped\n",
    "df['host_duration']=(pd.to_datetime(df['last_scraped'])-pd.to_datetime(df['host_since'])).dt.days\n",
    "df=df.drop(['last_scraped','host_since'],axis=1)\n"
   ]
  },
  {
   "cell_type": "code",
   "execution_count": 490,
   "metadata": {},
   "outputs": [
    {
     "data": {
      "text/plain": [
       "within an hour        36291\n",
       "within a few hours    12441\n",
       "within a day           8530\n",
       "a few days or more     1805\n",
       "Name: host_response_time, dtype: int64"
      ]
     },
     "execution_count": 490,
     "metadata": {},
     "output_type": "execute_result"
    }
   ],
   "source": [
    "#Checking the feature host_response_time\n",
    "df['host_response_time'].value_counts()\n",
    "#host_response_time seems to be an ordinal variable"
   ]
  },
  {
   "cell_type": "code",
   "execution_count": 491,
   "metadata": {},
   "outputs": [
    {
     "data": {
      "text/plain": [
       "0    2.0\n",
       "1    3.0\n",
       "2    1.0\n",
       "3    3.0\n",
       "4    2.0\n",
       "Name: host_response_time, dtype: float64"
      ]
     },
     "execution_count": 491,
     "metadata": {},
     "output_type": "execute_result"
    }
   ],
   "source": [
    "host_response_time_dict = {'within an hour': 1, 'within a few hours': 2, 'within a day': 3,'a few days or more': 4}\n",
    "df['host_response_time']=df['host_response_time'].replace(host_response_time_dict)\n",
    "df['host_response_time'][:5]"
   ]
  },
  {
   "cell_type": "code",
   "execution_count": 492,
   "metadata": {},
   "outputs": [],
   "source": [
    "##Feature based on host_verification_level : sum of all the methods\n",
    "# df['host_verifications'].isna.sum()\n",
    "df['host_verification_count']=df['host_verifications'].apply(lambda s: len(s.split(',')))\n",
    "df['host_verification_count'][:5]\n",
    "df=df.drop('host_verifications',axis=1)"
   ]
  },
  {
   "cell_type": "code",
   "execution_count": 493,
   "metadata": {},
   "outputs": [
    {
     "data": {
      "text/plain": [
       "24780"
      ]
     },
     "execution_count": 493,
     "metadata": {},
     "output_type": "execute_result"
    }
   ],
   "source": [
    "##Feature based on host_response_rate\n",
    "df['host_response_rate'].unique()\n",
    "df['host_response_rate'].isna().sum()"
   ]
  },
  {
   "cell_type": "code",
   "execution_count": 494,
   "metadata": {},
   "outputs": [],
   "source": [
    "# Fill NA as 0s and convert percentage to decimal values\n",
    "df['host_response_rate']=df['host_response_rate'].fillna(0)\n",
    "df['host_response_rate']=(df['host_response_rate'].str.split('%').str[0]).astype(float)*0.01\n",
    "df['host_response_rate']=df['host_response_rate'].fillna(0)\n",
    "df['host_response_rate'][:5]\n",
    "df=df.drop('host_response_rate',axis=1)"
   ]
  },
  {
   "cell_type": "code",
   "execution_count": 495,
   "metadata": {},
   "outputs": [
    {
     "data": {
      "text/plain": [
       "Entire home/apt    47141\n",
       "Private room       35970\n",
       "Shared room          736\n",
       "Name: room_type, dtype: int64"
      ]
     },
     "execution_count": 495,
     "metadata": {},
     "output_type": "execute_result"
    }
   ],
   "source": [
    "##Feature based on room_type\n",
    "df['room_type'].value_counts()"
   ]
  },
  {
   "cell_type": "code",
   "execution_count": 496,
   "metadata": {},
   "outputs": [],
   "source": [
    "room_type_dict = {'Shared room': 1, 'Private room': 2, 'Entire home/apt': 3}\n",
    "df['room_type']=df['room_type'].replace(room_type_dict)\n",
    "df['room_type'][:5]\n",
    "df=df.drop('room_type',axis=1)"
   ]
  },
  {
   "cell_type": "code",
   "execution_count": 497,
   "metadata": {},
   "outputs": [],
   "source": [
    "##Feature based on amenities\n",
    "df['amenities_count'] = df['amenities'].apply(lambda s: len(s.split(',')))\n",
    "df['amenities_count'][:5]\n",
    "amenities=df['amenities']\n",
    "df=df.drop('amenities',axis=1)"
   ]
  },
  {
   "cell_type": "code",
   "execution_count": 498,
   "metadata": {},
   "outputs": [],
   "source": [
    "#Features derived from house rules\n",
    "df['rule_smoking']=house_rules.str.contains('smoking|smoke',case=False, regex=False)\n",
    "df['rule_smoking']=df['rule_smoking']*1\n",
    "# df['rule_pets']=house_rules.str.contains('pets',case=False, regex=False)"
   ]
  },
  {
   "cell_type": "code",
   "execution_count": 499,
   "metadata": {},
   "outputs": [],
   "source": [
    "##property_type\n",
    "df['property_type'].value_counts()\n",
    "df=df.drop('property_type',axis=1)\n",
    "# df['property_type'].isna().sum()\n",
    "#Lot of categories ,displaying top 5"
   ]
  },
  {
   "cell_type": "code",
   "execution_count": 500,
   "metadata": {},
   "outputs": [
    {
     "data": {
      "text/plain": [
       "Real Bed         83112\n",
       "Pull-out Sofa      428\n",
       "Futon              188\n",
       "Couch               72\n",
       "Airbed              47\n",
       "Name: bed_type, dtype: int64"
      ]
     },
     "execution_count": 500,
     "metadata": {},
     "output_type": "execute_result"
    }
   ],
   "source": [
    "df['bed_type'].value_counts()\n"
   ]
  },
  {
   "cell_type": "code",
   "execution_count": 501,
   "metadata": {},
   "outputs": [],
   "source": [
    "#One hot encode the bed_type column\n",
    "one_hot=pd.get_dummies(df['bed_type'],prefix=\"Is\")\n",
    "df=df.drop('bed_type',axis=1)\n",
    "df=df.join(one_hot)"
   ]
  },
  {
   "cell_type": "code",
   "execution_count": 502,
   "metadata": {},
   "outputs": [
    {
     "data": {
      "text/plain": [
       "strict_14_with_grace_period    35878\n",
       "flexible                       27123\n",
       "moderate                       19957\n",
       "super_strict_60                  469\n",
       "super_strict_30                  391\n",
       "luxury_moderate                   17\n",
       "strict                             9\n",
       "luxury_super_strict_95             3\n",
       "Name: cancellation_policy, dtype: int64"
      ]
     },
     "execution_count": 502,
     "metadata": {},
     "output_type": "execute_result"
    }
   ],
   "source": [
    "# cancellation_policy\n",
    "df['cancellation_policy'].value_counts()"
   ]
  },
  {
   "cell_type": "code",
   "execution_count": 503,
   "metadata": {},
   "outputs": [],
   "source": [
    "#One hot encode the bed_type column\n",
    "one_hot=pd.get_dummies(df['cancellation_policy'])\n",
    "df=df.drop('cancellation_policy',axis=1)\n",
    "df=df.join(one_hot)"
   ]
  },
  {
   "cell_type": "code",
   "execution_count": 504,
   "metadata": {},
   "outputs": [],
   "source": [
    "##Feature based on Latitude and Longitude\n",
    "center_lat=51.50\n",
    "center_long=-0.12\n",
    "df['distance to center']=np.sqrt((center_lat-df['latitude'])**2+(center_long-df['longitude'])**2)\n",
    "df=df.drop(['latitude','longitude'],axis=1)"
   ]
  },
  {
   "cell_type": "code",
   "execution_count": 505,
   "metadata": {},
   "outputs": [],
   "source": [
    "#Removing first_review and last_review from the df\n",
    "cols=['first_review','last_review']\n",
    "df=df.drop(cols,axis=1)\n"
   ]
  },
  {
   "cell_type": "code",
   "execution_count": 506,
   "metadata": {},
   "outputs": [
    {
     "data": {
      "text/plain": [
       "<matplotlib.axes._subplots.AxesSubplot at 0x1fe7759ad30>"
      ]
     },
     "execution_count": 506,
     "metadata": {},
     "output_type": "execute_result"
    },
    {
     "data": {
      "image/png": "[encoded data removed]",
      "text/plain": [
       "<Figure size 432x288 with 1 Axes>"
      ]
     },
     "metadata": {
      "needs_background": "light"
     },
     "output_type": "display_data"
    }
   ],
   "source": [
    "import seaborn as sns\n",
    "import matplotlib.pyplot as plt\n",
    "##Plotting log transformed target variable(price)\n",
    "sns.distplot(np.log1p(df['price']))"
   ]
  },
  {
   "cell_type": "code",
   "execution_count": 507,
   "metadata": {},
   "outputs": [
    {
     "data": {
      "text/plain": [
       "<matplotlib.axes._subplots.AxesSubplot at 0x1ff49c852e8>"
      ]
     },
     "execution_count": 507,
     "metadata": {},
     "output_type": "execute_result"
    },
    {
     "data": {
      "image/png": "[encoded data removed]",
      "text/plain": [
       "<Figure size 432x288 with 1 Axes>"
      ]
     },
     "metadata": {
      "needs_background": "light"
     },
     "output_type": "display_data"
    }
   ],
   "source": [
    "sns.lineplot(x=\"accommodates\", y=\"price\", data=df)"
   ]
  },
  {
   "cell_type": "code",
   "execution_count": 508,
   "metadata": {},
   "outputs": [
    {
     "data": {
      "text/plain": [
       "<matplotlib.axes._subplots.AxesSubplot at 0x1ff5a921e10>"
      ]
     },
     "execution_count": 508,
     "metadata": {},
     "output_type": "execute_result"
    },
    {
     "data": {
      "image/png": "[encoded data removed]",
      "text/plain": [
       "<Figure size 432x288 with 1 Axes>"
      ]
     },
     "metadata": {
      "needs_background": "light"
     },
     "output_type": "display_data"
    }
   ],
   "source": [
    "sns.lineplot(x=\"bedrooms\", y=\"price\", data=df)"
   ]
  },
  {
   "cell_type": "code",
   "execution_count": 509,
   "metadata": {},
   "outputs": [
    {
     "data": {
      "text/plain": [
       "<seaborn.axisgrid.FacetGrid at 0x1ff5a723ba8>"
      ]
     },
     "execution_count": 509,
     "metadata": {},
     "output_type": "execute_result"
    },
    {
     "data": {
      "image/png": "[encoded data removed]",
      "text/plain": [
       "<Figure size 360x360 with 1 Axes>"
      ]
     },
     "metadata": {
      "needs_background": "light"
     },
     "output_type": "display_data"
    }
   ],
   "source": [
    "sns.catplot(x=\"host_is_superhost\", y=\"review_scores_rating\", data=df)"
   ]
  },
  {
   "cell_type": "code",
   "execution_count": 510,
   "metadata": {},
   "outputs": [
    {
     "data": {
      "text/plain": [
       "<seaborn.axisgrid.FacetGrid at 0x1ff49f1fa90>"
      ]
     },
     "execution_count": 510,
     "metadata": {},
     "output_type": "execute_result"
    },
    {
     "data": {
      "image/png": "[encoded data removed]",
      "text/plain": [
       "<Figure size 360x360 with 1 Axes>"
      ]
     },
     "metadata": {
      "needs_background": "light"
     },
     "output_type": "display_data"
    }
   ],
   "source": [
    "sns.catplot(x=\"host_is_superhost\", y=\"distance to center\", data=df)"
   ]
  },
  {
   "cell_type": "code",
   "execution_count": 511,
   "metadata": {},
   "outputs": [
    {
     "name": "stderr",
     "output_type": "stream",
     "text": [
      "C:\\Users\\everma\\AppData\\Local\\Continuum\\anaconda3\\lib\\site-packages\\ipykernel_launcher.py:10: UserWarning: Matplotlib is currently using module://ipykernel.pylab.backend_inline, which is a non-GUI backend, so cannot show the figure.\n",
      "  # Remove the CWD from sys.path while we load stuff.\n"
     ]
    },
    {
     "data": {
      "image/png": "[encoded data removed]",
      "text/plain": [
       "<Figure size 720x1080 with 16 Axes>"
      ]
     },
     "metadata": {
      "needs_background": "light"
     },
     "output_type": "display_data"
    }
   ],
   "source": [
    "cols = ['review_scores_rating', 'review_scores_accuracy', 'review_scores_cleanliness', 'review_scores_checkin',\n",
    "        'review_scores_communication', 'review_scores_location', 'review_scores_value', 'reviews_per_month']\n",
    "fig, axes = plt.subplots(nrows=8, ncols=2, figsize=(10,15))\n",
    "fig.tight_layout()\n",
    "total = len(cols)\n",
    "for i in range(total):\n",
    "#     col_notnull = train[pd.isnull(train[cols[i]]) == False][cols[i]]\n",
    "    sns.distplot(df[cols[i]].dropna(), ax=axes[i,0])\n",
    "    sns.boxplot(df[cols[i]].dropna(), ax=axes[i,1])\n",
    "fig.show()"
   ]
  },
  {
   "cell_type": "code",
   "execution_count": 512,
   "metadata": {},
   "outputs": [
    {
     "name": "stderr",
     "output_type": "stream",
     "text": [
      "C:\\Users\\everma\\AppData\\Local\\Continuum\\anaconda3\\lib\\site-packages\\ipykernel_launcher.py:9: UserWarning: Matplotlib is currently using module://ipykernel.pylab.backend_inline, which is a non-GUI backend, so cannot show the figure.\n",
      "  if __name__ == '__main__':\n"
     ]
    },
    {
     "data": {
      "image/png": "[encoded data removed]",
      "text/plain": [
       "<Figure size 576x360 with 6 Axes>"
      ]
     },
     "metadata": {
      "needs_background": "light"
     },
     "output_type": "display_data"
    }
   ],
   "source": [
    "##Imputation\n",
    "# df['beds'].isna().sum()\n",
    "cols = ['bathrooms', 'bedrooms', 'beds']\n",
    "fig, axes = plt.subplots(nrows=3, ncols=2,figsize=(8,5))\n",
    "fig.tight_layout()\n",
    "for i in range(len(cols)):\n",
    "    sns.distplot(df[cols[i]].dropna(), ax=axes[i,0])\n",
    "    sns.boxplot(df[cols[i]].dropna(), ax=axes[i,1])\n",
    "fig.show()"
   ]
  },
  {
   "cell_type": "code",
   "execution_count": 513,
   "metadata": {},
   "outputs": [
    {
     "data": {
      "text/html": [
       "<div>\n",
       "<style scoped>\n",
       "    .dataframe tbody tr th:only-of-type {\n",
       "        vertical-align: middle;\n",
       "    }\n",
       "\n",
       "    .dataframe tbody tr th {\n",
       "        vertical-align: top;\n",
       "    }\n",
       "\n",
       "    .dataframe thead th {\n",
       "        text-align: right;\n",
       "    }\n",
       "</style>\n",
       "<table border=\"1\" class=\"dataframe\">\n",
       "  <thead>\n",
       "    <tr style=\"text-align: right;\">\n",
       "      <th></th>\n",
       "      <th>host_response_time</th>\n",
       "      <th>host_is_superhost</th>\n",
       "      <th>host_listings_count</th>\n",
       "      <th>host_total_listings_count</th>\n",
       "      <th>host_has_profile_pic</th>\n",
       "      <th>host_identity_verified</th>\n",
       "      <th>is_location_exact</th>\n",
       "      <th>accommodates</th>\n",
       "      <th>bathrooms</th>\n",
       "      <th>bedrooms</th>\n",
       "      <th>...</th>\n",
       "      <th>Is_Real Bed</th>\n",
       "      <th>flexible</th>\n",
       "      <th>luxury_moderate</th>\n",
       "      <th>luxury_super_strict_95</th>\n",
       "      <th>moderate</th>\n",
       "      <th>strict</th>\n",
       "      <th>strict_14_with_grace_period</th>\n",
       "      <th>super_strict_30</th>\n",
       "      <th>super_strict_60</th>\n",
       "      <th>distance to center</th>\n",
       "    </tr>\n",
       "  </thead>\n",
       "  <tbody>\n",
       "    <tr>\n",
       "      <th>count</th>\n",
       "      <td>59067.000000</td>\n",
       "      <td>83847.000000</td>\n",
       "      <td>83800.000000</td>\n",
       "      <td>83800.000000</td>\n",
       "      <td>83847.000000</td>\n",
       "      <td>83847.000000</td>\n",
       "      <td>83847.000000</td>\n",
       "      <td>83847.000000</td>\n",
       "      <td>83709.000000</td>\n",
       "      <td>83813.000000</td>\n",
       "      <td>...</td>\n",
       "      <td>83847.000000</td>\n",
       "      <td>83847.000000</td>\n",
       "      <td>83847.000000</td>\n",
       "      <td>83847.000000</td>\n",
       "      <td>83847.000000</td>\n",
       "      <td>83847.000000</td>\n",
       "      <td>83847.000000</td>\n",
       "      <td>83847.000000</td>\n",
       "      <td>83847.000000</td>\n",
       "      <td>83847.000000</td>\n",
       "    </tr>\n",
       "    <tr>\n",
       "      <th>mean</th>\n",
       "      <td>1.591125</td>\n",
       "      <td>0.152337</td>\n",
       "      <td>31.876360</td>\n",
       "      <td>31.876360</td>\n",
       "      <td>0.997042</td>\n",
       "      <td>0.370782</td>\n",
       "      <td>0.620392</td>\n",
       "      <td>3.186363</td>\n",
       "      <td>1.297298</td>\n",
       "      <td>1.414590</td>\n",
       "      <td>...</td>\n",
       "      <td>0.991234</td>\n",
       "      <td>0.323482</td>\n",
       "      <td>0.000203</td>\n",
       "      <td>0.000036</td>\n",
       "      <td>0.238017</td>\n",
       "      <td>0.000107</td>\n",
       "      <td>0.427898</td>\n",
       "      <td>0.004663</td>\n",
       "      <td>0.005594</td>\n",
       "      <td>0.087180</td>\n",
       "    </tr>\n",
       "    <tr>\n",
       "      <th>std</th>\n",
       "      <td>0.844917</td>\n",
       "      <td>0.359349</td>\n",
       "      <td>172.812245</td>\n",
       "      <td>172.812245</td>\n",
       "      <td>0.054305</td>\n",
       "      <td>0.483017</td>\n",
       "      <td>0.485292</td>\n",
       "      <td>2.012519</td>\n",
       "      <td>0.617855</td>\n",
       "      <td>0.925968</td>\n",
       "      <td>...</td>\n",
       "      <td>0.093216</td>\n",
       "      <td>0.467808</td>\n",
       "      <td>0.014238</td>\n",
       "      <td>0.005982</td>\n",
       "      <td>0.425872</td>\n",
       "      <td>0.010360</td>\n",
       "      <td>0.494777</td>\n",
       "      <td>0.068129</td>\n",
       "      <td>0.074581</td>\n",
       "      <td>0.056608</td>\n",
       "    </tr>\n",
       "    <tr>\n",
       "      <th>min</th>\n",
       "      <td>1.000000</td>\n",
       "      <td>0.000000</td>\n",
       "      <td>0.000000</td>\n",
       "      <td>0.000000</td>\n",
       "      <td>0.000000</td>\n",
       "      <td>0.000000</td>\n",
       "      <td>0.000000</td>\n",
       "      <td>0.000000</td>\n",
       "      <td>0.000000</td>\n",
       "      <td>0.000000</td>\n",
       "      <td>...</td>\n",
       "      <td>0.000000</td>\n",
       "      <td>0.000000</td>\n",
       "      <td>0.000000</td>\n",
       "      <td>0.000000</td>\n",
       "      <td>0.000000</td>\n",
       "      <td>0.000000</td>\n",
       "      <td>0.000000</td>\n",
       "      <td>0.000000</td>\n",
       "      <td>0.000000</td>\n",
       "      <td>0.001779</td>\n",
       "    </tr>\n",
       "    <tr>\n",
       "      <th>25%</th>\n",
       "      <td>1.000000</td>\n",
       "      <td>0.000000</td>\n",
       "      <td>1.000000</td>\n",
       "      <td>1.000000</td>\n",
       "      <td>1.000000</td>\n",
       "      <td>0.000000</td>\n",
       "      <td>0.000000</td>\n",
       "      <td>2.000000</td>\n",
       "      <td>1.000000</td>\n",
       "      <td>1.000000</td>\n",
       "      <td>...</td>\n",
       "      <td>1.000000</td>\n",
       "      <td>0.000000</td>\n",
       "      <td>0.000000</td>\n",
       "      <td>0.000000</td>\n",
       "      <td>0.000000</td>\n",
       "      <td>0.000000</td>\n",
       "      <td>0.000000</td>\n",
       "      <td>0.000000</td>\n",
       "      <td>0.000000</td>\n",
       "      <td>0.049859</td>\n",
       "    </tr>\n",
       "    <tr>\n",
       "      <th>50%</th>\n",
       "      <td>1.000000</td>\n",
       "      <td>0.000000</td>\n",
       "      <td>2.000000</td>\n",
       "      <td>2.000000</td>\n",
       "      <td>1.000000</td>\n",
       "      <td>0.000000</td>\n",
       "      <td>1.000000</td>\n",
       "      <td>2.000000</td>\n",
       "      <td>1.000000</td>\n",
       "      <td>1.000000</td>\n",
       "      <td>...</td>\n",
       "      <td>1.000000</td>\n",
       "      <td>0.000000</td>\n",
       "      <td>0.000000</td>\n",
       "      <td>0.000000</td>\n",
       "      <td>0.000000</td>\n",
       "      <td>0.000000</td>\n",
       "      <td>0.000000</td>\n",
       "      <td>0.000000</td>\n",
       "      <td>0.000000</td>\n",
       "      <td>0.074338</td>\n",
       "    </tr>\n",
       "    <tr>\n",
       "      <th>75%</th>\n",
       "      <td>2.000000</td>\n",
       "      <td>0.000000</td>\n",
       "      <td>5.000000</td>\n",
       "      <td>5.000000</td>\n",
       "      <td>1.000000</td>\n",
       "      <td>1.000000</td>\n",
       "      <td>1.000000</td>\n",
       "      <td>4.000000</td>\n",
       "      <td>1.500000</td>\n",
       "      <td>2.000000</td>\n",
       "      <td>...</td>\n",
       "      <td>1.000000</td>\n",
       "      <td>1.000000</td>\n",
       "      <td>0.000000</td>\n",
       "      <td>0.000000</td>\n",
       "      <td>0.000000</td>\n",
       "      <td>0.000000</td>\n",
       "      <td>1.000000</td>\n",
       "      <td>0.000000</td>\n",
       "      <td>0.000000</td>\n",
       "      <td>0.107905</td>\n",
       "    </tr>\n",
       "    <tr>\n",
       "      <th>max</th>\n",
       "      <td>4.000000</td>\n",
       "      <td>1.000000</td>\n",
       "      <td>1433.000000</td>\n",
       "      <td>1433.000000</td>\n",
       "      <td>1.000000</td>\n",
       "      <td>1.000000</td>\n",
       "      <td>1.000000</td>\n",
       "      <td>16.000000</td>\n",
       "      <td>24.000000</td>\n",
       "      <td>24.000000</td>\n",
       "      <td>...</td>\n",
       "      <td>1.000000</td>\n",
       "      <td>1.000000</td>\n",
       "      <td>1.000000</td>\n",
       "      <td>1.000000</td>\n",
       "      <td>1.000000</td>\n",
       "      <td>1.000000</td>\n",
       "      <td>1.000000</td>\n",
       "      <td>1.000000</td>\n",
       "      <td>1.000000</td>\n",
       "      <td>0.418623</td>\n",
       "    </tr>\n",
       "  </tbody>\n",
       "</table>\n",
       "<p>8 rows × 63 columns</p>\n",
       "</div>"
      ],
      "text/plain": [
       "       host_response_time  host_is_superhost  host_listings_count  \\\n",
       "count        59067.000000       83847.000000         83800.000000   \n",
       "mean             1.591125           0.152337            31.876360   \n",
       "std              0.844917           0.359349           172.812245   \n",
       "min              1.000000           0.000000             0.000000   \n",
       "25%              1.000000           0.000000             1.000000   \n",
       "50%              1.000000           0.000000             2.000000   \n",
       "75%              2.000000           0.000000             5.000000   \n",
       "max              4.000000           1.000000          1433.000000   \n",
       "\n",
       "       host_total_listings_count  host_has_profile_pic  \\\n",
       "count               83800.000000          83847.000000   \n",
       "mean                   31.876360              0.997042   \n",
       "std                   172.812245              0.054305   \n",
       "min                     0.000000              0.000000   \n",
       "25%                     1.000000              1.000000   \n",
       "50%                     2.000000              1.000000   \n",
       "75%                     5.000000              1.000000   \n",
       "max                  1433.000000              1.000000   \n",
       "\n",
       "       host_identity_verified  is_location_exact  accommodates     bathrooms  \\\n",
       "count            83847.000000       83847.000000  83847.000000  83709.000000   \n",
       "mean                 0.370782           0.620392      3.186363      1.297298   \n",
       "std                  0.483017           0.485292      2.012519      0.617855   \n",
       "min                  0.000000           0.000000      0.000000      0.000000   \n",
       "25%                  0.000000           0.000000      2.000000      1.000000   \n",
       "50%                  0.000000           1.000000      2.000000      1.000000   \n",
       "75%                  1.000000           1.000000      4.000000      1.500000   \n",
       "max                  1.000000           1.000000     16.000000     24.000000   \n",
       "\n",
       "           bedrooms  ...   Is_Real Bed      flexible  luxury_moderate  \\\n",
       "count  83813.000000  ...  83847.000000  83847.000000     83847.000000   \n",
       "mean       1.414590  ...      0.991234      0.323482         0.000203   \n",
       "std        0.925968  ...      0.093216      0.467808         0.014238   \n",
       "min        0.000000  ...      0.000000      0.000000         0.000000   \n",
       "25%        1.000000  ...      1.000000      0.000000         0.000000   \n",
       "50%        1.000000  ...      1.000000      0.000000         0.000000   \n",
       "75%        2.000000  ...      1.000000      1.000000         0.000000   \n",
       "max       24.000000  ...      1.000000      1.000000         1.000000   \n",
       "\n",
       "       luxury_super_strict_95      moderate        strict  \\\n",
       "count            83847.000000  83847.000000  83847.000000   \n",
       "mean                 0.000036      0.238017      0.000107   \n",
       "std                  0.005982      0.425872      0.010360   \n",
       "min                  0.000000      0.000000      0.000000   \n",
       "25%                  0.000000      0.000000      0.000000   \n",
       "50%                  0.000000      0.000000      0.000000   \n",
       "75%                  0.000000      0.000000      0.000000   \n",
       "max                  1.000000      1.000000      1.000000   \n",
       "\n",
       "       strict_14_with_grace_period  super_strict_30  super_strict_60  \\\n",
       "count                 83847.000000     83847.000000     83847.000000   \n",
       "mean                      0.427898         0.004663         0.005594   \n",
       "std                       0.494777         0.068129         0.074581   \n",
       "min                       0.000000         0.000000         0.000000   \n",
       "25%                       0.000000         0.000000         0.000000   \n",
       "50%                       0.000000         0.000000         0.000000   \n",
       "75%                       1.000000         0.000000         0.000000   \n",
       "max                       1.000000         1.000000         1.000000   \n",
       "\n",
       "       distance to center  \n",
       "count        83847.000000  \n",
       "mean             0.087180  \n",
       "std              0.056608  \n",
       "min              0.001779  \n",
       "25%              0.049859  \n",
       "50%              0.074338  \n",
       "75%              0.107905  \n",
       "max              0.418623  \n",
       "\n",
       "[8 rows x 63 columns]"
      ]
     },
     "execution_count": 513,
     "metadata": {},
     "output_type": "execute_result"
    }
   ],
   "source": [
    "df.describe()"
   ]
  },
  {
   "cell_type": "code",
   "execution_count": 514,
   "metadata": {},
   "outputs": [],
   "source": [
    "percent_missing = (df.isnull().sum() * 100 / len(df)).sort_values(ascending=False)"
   ]
  },
  {
   "cell_type": "code",
   "execution_count": 515,
   "metadata": {},
   "outputs": [
    {
     "data": {
      "text/plain": [
       "rule_smoking                   41.741505\n",
       "security_deposit               35.150930\n",
       "host_response_time             29.553830\n",
       "review_scores_checkin          27.181652\n",
       "review_scores_location         27.180460\n",
       "review_scores_value            27.180460\n",
       "review_scores_accuracy         27.118442\n",
       "review_scores_communication    27.114864\n",
       "review_scores_cleanliness      27.105323\n",
       "review_scores_rating           27.057617\n",
       "cleaning_fee                   25.725428\n",
       "reviews_per_month              25.070664\n",
       "dtype: float64"
      ]
     },
     "execution_count": 515,
     "metadata": {},
     "output_type": "execute_result"
    }
   ],
   "source": [
    "percent_missing[percent_missing>25]"
   ]
  },
  {
   "cell_type": "code",
   "execution_count": 516,
   "metadata": {},
   "outputs": [],
   "source": [
    "#rule_smoking has more than 40 % data missing,hence dropping the feature\n",
    "#Impute other features by their corresponding median values\n",
    "df=df.drop([\"rule_smoking\"],axis=1)"
   ]
  },
  {
   "cell_type": "code",
   "execution_count": 517,
   "metadata": {},
   "outputs": [],
   "source": [
    "cols=percent_missing[percent_missing>25].index[1:]"
   ]
  },
  {
   "cell_type": "code",
   "execution_count": 518,
   "metadata": {},
   "outputs": [],
   "source": [
    "for col in cols:\n",
    "    df[col]=df[col].fillna(df[col].median())\n",
    "    "
   ]
  },
  {
   "cell_type": "code",
   "execution_count": 519,
   "metadata": {},
   "outputs": [],
   "source": [
    "cols=['beds','bathrooms','bedrooms','host_duration','host_listings_count','host_total_listings_count']\n",
    "for col in cols:\n",
    "    df[col]=df[col].fillna(df[col].median())\n",
    "    "
   ]
  },
  {
   "cell_type": "code",
   "execution_count": 520,
   "metadata": {},
   "outputs": [],
   "source": [
    "#Model building\n",
    "from sklearn.model_selection import GridSearchCV\n",
    "from sklearn.ensemble import RandomForestRegressor\n",
    "from sklearn.preprocessing import Imputer\n",
    "from sklearn.ensemble import ExtraTreesClassifier\n",
    "from sklearn.model_selection import train_test_split\n",
    "from sklearn.model_selection import cross_val_score"
   ]
  },
  {
   "cell_type": "code",
   "execution_count": 521,
   "metadata": {},
   "outputs": [],
   "source": [
    "#dropping 'price' from dataframe\n",
    "target=df['price']\n",
    "df=df.drop('price',axis=1)\n",
    "features=df\n"
   ]
  },
  {
   "cell_type": "code",
   "execution_count": 522,
   "metadata": {},
   "outputs": [
    {
     "name": "stdout",
     "output_type": "stream",
     "text": [
      "0.203 (+/-0.220) for {'n_estimators': 50}\n",
      "0.191 (+/-0.262) for {'n_estimators': 60}\n",
      "0.197 (+/-0.225) for {'n_estimators': 70}\n",
      "0.185 (+/-0.240) for {'n_estimators': 80}\n",
      "0.200 (+/-0.227) for {'n_estimators': 90}\n"
     ]
    }
   ],
   "source": [
    "tunedParameters=[{'n_estimators':range(50,100,10)}]\n",
    "#criterion='mae' takes long time \n",
    "reg=GridSearchCV(RandomForestRegressor(n_jobs = -1, criterion='mse'), param_grid = tunedParameters,cv=5)\n",
    "reg.fit(X, y)\n",
    "means = reg.cv_results_['mean_test_score']\n",
    "stds = reg.cv_results_['std_test_score']\n",
    "for mean, std, params in zip(means, stds, reg.cv_results_['params']):\n",
    "    print(\"%0.3f (+/-%0.03f) for %r\" % (mean, std * 2, params))\n",
    "                                          "
   ]
  },
  {
   "cell_type": "code",
   "execution_count": 524,
   "metadata": {},
   "outputs": [
    {
     "data": {
      "text/plain": [
       "RandomForestRegressor(bootstrap=True, criterion='mse', max_depth=None,\n",
       "                      max_features='auto', max_leaf_nodes=None,\n",
       "                      min_impurity_decrease=0.0, min_impurity_split=None,\n",
       "                      min_samples_leaf=1, min_samples_split=2,\n",
       "                      min_weight_fraction_leaf=0.0, n_estimators=80, n_jobs=-1,\n",
       "                      oob_score=False, random_state=None, verbose=0,\n",
       "                      warm_start=False)"
      ]
     },
     "execution_count": 524,
     "metadata": {},
     "output_type": "execute_result"
    }
   ],
   "source": [
    "#Taking single split of 80-20 to form our train and test set\n",
    "features_train, features_test, target_train, target_test = train_test_split(features, target, test_size=0.2, random_state=42)\n",
    "\n",
    "reg = RandomForestRegressor(n_jobs = -1, criterion='mse', n_estimators=80)\n",
    "reg.fit(X_train, y_train)\n"
   ]
  },
  {
   "cell_type": "code",
   "execution_count": 533,
   "metadata": {},
   "outputs": [
    {
     "data": {
      "image/png": "[encoded data removed]",
      "text/plain": [
       "<Figure size 432x288 with 1 Axes>"
      ]
     },
     "metadata": {
      "needs_background": "light"
     },
     "output_type": "display_data"
    }
   ],
   "source": [
    "importances = reg.feature_importances_\n",
    "indices = np.argsort(importances)[::-1]\n",
    "names = [features.columns[i] for i in indices]\n",
    "plt.figure()\n",
    "plt.title(\"Feature Importance\")\n",
    "x=np.arange(features.shape[1])[:20]\n",
    "y=importances[indices][:20]\n",
    "plt.bar(x, y)\n",
    "plt.xticks(x, names, rotation='vertical')\n",
    "plt.show()\n"
   ]
  },
  {
   "cell_type": "code",
   "execution_count": 534,
   "metadata": {},
   "outputs": [
    {
     "data": {
      "text/plain": [
       "20.809467850380905"
      ]
     },
     "execution_count": 534,
     "metadata": {},
     "output_type": "execute_result"
    }
   ],
   "source": [
    "from sklearn.metrics import mean_absolute_error\n",
    "from sklearn.metrics import mean_squared_error\n",
    "train_mae=mean_absolute_error(target_train,reg.predict(features_train))\n",
    "train_mae"
   ]
  },
  {
   "cell_type": "code",
   "execution_count": 535,
   "metadata": {},
   "outputs": [
    {
     "data": {
      "text/plain": [
       "109.91039505068574"
      ]
     },
     "execution_count": 535,
     "metadata": {},
     "output_type": "execute_result"
    }
   ],
   "source": [
    "test_mae=mean_absolute_error(y_test,reg.predict(features_test))\n",
    "test_mae"
   ]
  },
  {
   "cell_type": "code",
   "execution_count": 539,
   "metadata": {},
   "outputs": [
    {
     "data": {
      "text/plain": [
       "[<matplotlib.lines.Line2D at 0x1fee3940e10>]"
      ]
     },
     "execution_count": 539,
     "metadata": {},
     "output_type": "execute_result"
    },
    {
     "data": {
      "image/png": "[encoded data removed]",
      "text/plain": [
       "<Figure size 432x288 with 1 Axes>"
      ]
     },
     "metadata": {
      "needs_background": "light"
     },
     "output_type": "display_data"
    }
   ],
   "source": [
    "plt.plot(reg.predict(features_test))"
   ]
  },
  {
   "cell_type": "code",
   "execution_count": 542,
   "metadata": {},
   "outputs": [
    {
     "data": {
      "image/png": "[encoded data removed]",
      "text/plain": [
       "<Figure size 432x288 with 1 Axes>"
      ]
     },
     "metadata": {
      "needs_background": "light"
     },
     "output_type": "display_data"
    }
   ],
   "source": [
    "err = target_test-reg.predict(features_test)\n",
    "plt.figure()\n",
    "err.hist(bins = 20)\n",
    "plt.ylabel('frequency')\n",
    "plt.xlabel('predicted error')\n",
    "plt.title('Distribution of the error')\n",
    "plt.show()"
   ]
  },
  {
   "cell_type": "code",
   "execution_count": 545,
   "metadata": {},
   "outputs": [
    {
     "data": {
      "text/plain": [
       "<matplotlib.axes._subplots.AxesSubplot at 0x1ff511770f0>"
      ]
     },
     "execution_count": 545,
     "metadata": {},
     "output_type": "execute_result"
    },
    {
     "data": {
      "image/png": "[encoded data removed]",
      "text/plain": [
       "<Figure size 432x288 with 1 Axes>"
      ]
     },
     "metadata": {
      "needs_background": "light"
     },
     "output_type": "display_data"
    }
   ],
   "source": [
    "#Scatterplot of error vs prediction\n",
    "sns.scatterplot(err,reg.predict(features_test))"
   ]
  },
  {
   "cell_type": "code",
   "execution_count": null,
   "metadata": {},
   "outputs": [],
   "source": []
  }
 ],
 "metadata": {
  "kernelspec": {
   "display_name": "Python 3",
   "language": "python",
   "name": "python3"
  },
  "language_info": {
   "codemirror_mode": {
    "name": "ipython",
    "version": 3
   },
   "file_extension": ".py",
   "mimetype": "text/x-python",
   "name": "python",
   "nbconvert_exporter": "python",
   "pygments_lexer": "ipython3",
   "version": "3.7.3"
  }
 },
 "nbformat": 4,
 "nbformat_minor": 2
}
